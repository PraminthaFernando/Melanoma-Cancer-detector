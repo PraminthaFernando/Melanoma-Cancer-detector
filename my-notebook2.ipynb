{
 "cells": [
  {
   "cell_type": "code",
   "execution_count": 3,
   "id": "8548b1d5",
   "metadata": {
    "execution": {
     "iopub.execute_input": "2024-10-27T17:52:34.679664Z",
     "iopub.status.busy": "2024-10-27T17:52:34.679352Z",
     "iopub.status.idle": "2024-10-27T17:52:54.561340Z",
     "shell.execute_reply": "2024-10-27T17:52:54.560493Z"
    },
    "papermill": {
     "duration": 19.894543,
     "end_time": "2024-10-27T17:52:54.563638",
     "exception": false,
     "start_time": "2024-10-27T17:52:34.669095",
     "status": "completed"
    },
    "tags": []
   },
   "outputs": [],
   "source": [
    "import numpy as np\n",
    "import pandas as pd\n",
    "import tensorflow as tf\n",
    "import cv2\n",
    "from sklearn.model_selection import train_test_split\n",
    "from sklearn.metrics import roc_auc_score, roc_curve\n",
    "from sklearn.ensemble import RandomForestClassifier\n",
    "from sklearn.preprocessing import LabelEncoder, OneHotEncoder\n",
    "from sklearn.impute import SimpleImputer\n",
    "import xgboost as xgb\n",
    "import matplotlib.pyplot as plt\n",
    "\n",
    "# Load the train and test datasets\n",
    "train_df = pd.read_csv('/kaggle/input/siim-isic-melanoma-classification/train.csv')\n",
    "test_df = pd.read_csv('/kaggle/input/siim-isic-melanoma-classification/test.csv')\n",
    "\n",
    "# Path to images\n",
    "train_image_dir = '/kaggle/input/siim-isic-melanoma-classification/jpeg/train/'\n",
    "test_image_dir = '/kaggle/input/siim-isic-melanoma-classification/jpeg/test/'\n",
    "\n",
    "# Set constants\n",
    "IMG_SIZE = 196  # Reduced image size for faster computation\n",
    "BATCH_SIZE = 16\n",
    "\n",
    "# Image preprocessing function\n",
    "def preprocess_image(image_path, img_size=IMG_SIZE):\n",
    "    img = cv2.imread(image_path)\n",
    "    img = cv2.cvtColor(img, cv2.COLOR_BGR2RGB)\n",
    "    img = cv2.resize(img, (img_size, img_size))\n",
    "    img = img / 255.0  # Normalize\n",
    "    return img\n",
    "\n",
    "def load_and_preprocess_image(image_name, label=None, is_train=True):\n",
    "    image_path = tf.strings.join([train_image_dir, image_name, '.jpg'], separator='')\n",
    "    image = tf.io.read_file(image_path)\n",
    "    image = tf.image.decode_jpeg(image, channels=3)\n",
    "    image = tf.image.resize(image, [IMG_SIZE, IMG_SIZE])\n",
    "    image = image / 255.0  # Normalize\n",
    "\n",
    "    if is_train:\n",
    "        image = tf.image.random_flip_left_right(image)\n",
    "        image = tf.image.random_brightness(image, max_delta=0.1)\n",
    "        image = tf.image.random_contrast(image, lower=0.8, upper=1.2)\n",
    "        image = tf.image.random_saturation(image, lower=0.8, upper=1.2)\n",
    "        image = tf.image.random_hue(image, max_delta=0.1)\n",
    "\n",
    "    if label is not None:\n",
    "        return image, label\n",
    "    return image\n",
    "\n",
    "\n",
    "def create_dataset(df, is_train=True):\n",
    "    dataset = tf.data.Dataset.from_tensor_slices((df['image_name'], df['target']))\n",
    "    dataset = dataset.map(lambda x, y: (load_and_preprocess_image(x, y)), \n",
    "                          num_parallel_calls=tf.data.AUTOTUNE)\n",
    "    if is_train:\n",
    "        dataset = dataset.shuffle(buffer_size=len(df)).batch(BATCH_SIZE).prefetch(tf.data.experimental.AUTOTUNE)\n",
    "    else:\n",
    "        dataset = dataset.batch(BATCH_SIZE).prefetch(tf.data.experimental.AUTOTUNE)\n",
    "    return dataset"
   ]
  },
  {
   "cell_type": "code",
   "execution_count": 5,
   "id": "1d425094",
   "metadata": {
    "execution": {
     "iopub.execute_input": "2024-10-27T17:52:54.616973Z",
     "iopub.status.busy": "2024-10-27T17:52:54.616674Z",
     "iopub.status.idle": "2024-10-27T17:52:54.623641Z",
     "shell.execute_reply": "2024-10-27T17:52:54.622785Z"
    },
    "papermill": {
     "duration": 0.017662,
     "end_time": "2024-10-27T17:52:54.625461",
     "exception": false,
     "start_time": "2024-10-27T17:52:54.607799",
     "status": "completed"
    },
    "tags": []
   },
   "outputs": [
    {
     "data": {
      "text/plain": [
       "(33126, 8)"
      ]
     },
     "execution_count": 5,
     "metadata": {},
     "output_type": "execute_result"
    }
   ],
   "source": [
    "train_df.shape"
   ]
  },
  {
   "cell_type": "code",
   "execution_count": 6,
   "id": "81d16e5b",
   "metadata": {
    "execution": {
     "iopub.execute_input": "2024-10-27T17:52:54.643511Z",
     "iopub.status.busy": "2024-10-27T17:52:54.643219Z",
     "iopub.status.idle": "2024-10-27T17:52:54.663052Z",
     "shell.execute_reply": "2024-10-27T17:52:54.662214Z"
    },
    "papermill": {
     "duration": 0.030878,
     "end_time": "2024-10-27T17:52:54.664902",
     "exception": false,
     "start_time": "2024-10-27T17:52:54.634024",
     "status": "completed"
    },
    "tags": []
   },
   "outputs": [
    {
     "data": {
      "text/plain": [
       "target\n",
       "0    32542\n",
       "1      584\n",
       "Name: count, dtype: int64"
      ]
     },
     "execution_count": 6,
     "metadata": {},
     "output_type": "execute_result"
    }
   ],
   "source": [
    "train_df[\"target\"].value_counts()"
   ]
  },
  {
   "cell_type": "code",
   "execution_count": 7,
   "id": "465bc29b",
   "metadata": {
    "execution": {
     "iopub.execute_input": "2024-10-27T17:52:54.682589Z",
     "iopub.status.busy": "2024-10-27T17:52:54.682320Z",
     "iopub.status.idle": "2024-10-27T17:52:54.693668Z",
     "shell.execute_reply": "2024-10-27T17:52:54.692779Z"
    },
    "papermill": {
     "duration": 0.022463,
     "end_time": "2024-10-27T17:52:54.695666",
     "exception": false,
     "start_time": "2024-10-27T17:52:54.673203",
     "status": "completed"
    },
    "tags": []
   },
   "outputs": [
    {
     "data": {
      "text/plain": [
       "anatom_site_general_challenge\n",
       "torso              16845\n",
       "lower extremity     8417\n",
       "upper extremity     4983\n",
       "head/neck           1855\n",
       "palms/soles          375\n",
       "oral/genital         124\n",
       "Name: count, dtype: int64"
      ]
     },
     "execution_count": 7,
     "metadata": {},
     "output_type": "execute_result"
    }
   ],
   "source": [
    "train_df[\"anatom_site_general_challenge\"].value_counts()"
   ]
  },
  {
   "cell_type": "code",
   "execution_count": 8,
   "id": "7848b9e8",
   "metadata": {
    "execution": {
     "iopub.execute_input": "2024-10-27T17:52:54.713409Z",
     "iopub.status.busy": "2024-10-27T17:52:54.713150Z",
     "iopub.status.idle": "2024-10-27T17:52:54.736372Z",
     "shell.execute_reply": "2024-10-27T17:52:54.735725Z"
    },
    "papermill": {
     "duration": 0.03428,
     "end_time": "2024-10-27T17:52:54.738272",
     "exception": false,
     "start_time": "2024-10-27T17:52:54.703992",
     "status": "completed"
    },
    "tags": []
   },
   "outputs": [],
   "source": [
    "train_df = train_df.dropna(subset=['sex'])"
   ]
  },
  {
   "cell_type": "code",
   "execution_count": 9,
   "id": "9eb04661",
   "metadata": {
    "execution": {
     "iopub.execute_input": "2024-10-27T17:52:54.756252Z",
     "iopub.status.busy": "2024-10-27T17:52:54.755992Z",
     "iopub.status.idle": "2024-10-27T17:52:54.767034Z",
     "shell.execute_reply": "2024-10-27T17:52:54.766204Z"
    },
    "papermill": {
     "duration": 0.022295,
     "end_time": "2024-10-27T17:52:54.769139",
     "exception": false,
     "start_time": "2024-10-27T17:52:54.746844",
     "status": "completed"
    },
    "tags": []
   },
   "outputs": [
    {
     "data": {
      "text/plain": [
       "sex\n",
       "male      17080\n",
       "female    15981\n",
       "Name: count, dtype: int64"
      ]
     },
     "execution_count": 9,
     "metadata": {},
     "output_type": "execute_result"
    }
   ],
   "source": [
    "train_df[\"sex\"].value_counts()"
   ]
  },
  {
   "cell_type": "code",
   "execution_count": 10,
   "id": "3655f0e3",
   "metadata": {
    "execution": {
     "iopub.execute_input": "2024-10-27T17:52:54.788070Z",
     "iopub.status.busy": "2024-10-27T17:52:54.787391Z",
     "iopub.status.idle": "2024-10-27T17:52:54.806255Z",
     "shell.execute_reply": "2024-10-27T17:52:54.805445Z"
    },
    "papermill": {
     "duration": 0.030017,
     "end_time": "2024-10-27T17:52:54.808305",
     "exception": false,
     "start_time": "2024-10-27T17:52:54.778288",
     "status": "completed"
    },
    "tags": []
   },
   "outputs": [
    {
     "data": {
      "text/html": [
       "<div>\n",
       "<style scoped>\n",
       "    .dataframe tbody tr th:only-of-type {\n",
       "        vertical-align: middle;\n",
       "    }\n",
       "\n",
       "    .dataframe tbody tr th {\n",
       "        vertical-align: top;\n",
       "    }\n",
       "\n",
       "    .dataframe thead th {\n",
       "        text-align: right;\n",
       "    }\n",
       "</style>\n",
       "<table border=\"1\" class=\"dataframe\">\n",
       "  <thead>\n",
       "    <tr style=\"text-align: right;\">\n",
       "      <th></th>\n",
       "      <th>image_name</th>\n",
       "      <th>patient_id</th>\n",
       "      <th>sex</th>\n",
       "      <th>age_approx</th>\n",
       "      <th>anatom_site_general_challenge</th>\n",
       "      <th>diagnosis</th>\n",
       "      <th>benign_malignant</th>\n",
       "      <th>target</th>\n",
       "    </tr>\n",
       "  </thead>\n",
       "  <tbody>\n",
       "    <tr>\n",
       "      <th>0</th>\n",
       "      <td>ISIC_2637011</td>\n",
       "      <td>IP_7279968</td>\n",
       "      <td>male</td>\n",
       "      <td>45.0</td>\n",
       "      <td>head/neck</td>\n",
       "      <td>unknown</td>\n",
       "      <td>benign</td>\n",
       "      <td>0</td>\n",
       "    </tr>\n",
       "    <tr>\n",
       "      <th>1</th>\n",
       "      <td>ISIC_0015719</td>\n",
       "      <td>IP_3075186</td>\n",
       "      <td>female</td>\n",
       "      <td>45.0</td>\n",
       "      <td>upper extremity</td>\n",
       "      <td>unknown</td>\n",
       "      <td>benign</td>\n",
       "      <td>0</td>\n",
       "    </tr>\n",
       "    <tr>\n",
       "      <th>2</th>\n",
       "      <td>ISIC_0052212</td>\n",
       "      <td>IP_2842074</td>\n",
       "      <td>female</td>\n",
       "      <td>50.0</td>\n",
       "      <td>lower extremity</td>\n",
       "      <td>nevus</td>\n",
       "      <td>benign</td>\n",
       "      <td>0</td>\n",
       "    </tr>\n",
       "    <tr>\n",
       "      <th>3</th>\n",
       "      <td>ISIC_0068279</td>\n",
       "      <td>IP_6890425</td>\n",
       "      <td>female</td>\n",
       "      <td>45.0</td>\n",
       "      <td>head/neck</td>\n",
       "      <td>unknown</td>\n",
       "      <td>benign</td>\n",
       "      <td>0</td>\n",
       "    </tr>\n",
       "    <tr>\n",
       "      <th>4</th>\n",
       "      <td>ISIC_0074268</td>\n",
       "      <td>IP_8723313</td>\n",
       "      <td>female</td>\n",
       "      <td>55.0</td>\n",
       "      <td>upper extremity</td>\n",
       "      <td>unknown</td>\n",
       "      <td>benign</td>\n",
       "      <td>0</td>\n",
       "    </tr>\n",
       "  </tbody>\n",
       "</table>\n",
       "</div>"
      ],
      "text/plain": [
       "     image_name  patient_id     sex  age_approx anatom_site_general_challenge  \\\n",
       "0  ISIC_2637011  IP_7279968    male        45.0                     head/neck   \n",
       "1  ISIC_0015719  IP_3075186  female        45.0               upper extremity   \n",
       "2  ISIC_0052212  IP_2842074  female        50.0               lower extremity   \n",
       "3  ISIC_0068279  IP_6890425  female        45.0                     head/neck   \n",
       "4  ISIC_0074268  IP_8723313  female        55.0               upper extremity   \n",
       "\n",
       "  diagnosis benign_malignant  target  \n",
       "0   unknown           benign       0  \n",
       "1   unknown           benign       0  \n",
       "2     nevus           benign       0  \n",
       "3   unknown           benign       0  \n",
       "4   unknown           benign       0  "
      ]
     },
     "execution_count": 10,
     "metadata": {},
     "output_type": "execute_result"
    }
   ],
   "source": [
    "train_df.head()"
   ]
  },
  {
   "cell_type": "markdown",
   "id": "6d211dbd",
   "metadata": {},
   "source": [
    "## Fill Missing values"
   ]
  },
  {
   "cell_type": "code",
   "execution_count": 11,
   "id": "34c668b0",
   "metadata": {
    "execution": {
     "iopub.execute_input": "2024-10-27T17:52:54.827275Z",
     "iopub.status.busy": "2024-10-27T17:52:54.827017Z",
     "iopub.status.idle": "2024-10-27T17:52:55.948960Z",
     "shell.execute_reply": "2024-10-27T17:52:55.947969Z"
    },
    "papermill": {
     "duration": 1.133729,
     "end_time": "2024-10-27T17:52:55.951239",
     "exception": false,
     "start_time": "2024-10-27T17:52:54.817510",
     "status": "completed"
    },
    "tags": []
   },
   "outputs": [
    {
     "name": "stderr",
     "output_type": "stream",
     "text": [
      "/tmp/ipykernel_23/2832465613.py:2: FutureWarning: A value is trying to be set on a copy of a DataFrame or Series through chained assignment using an inplace method.\n",
      "The behavior will change in pandas 3.0. This inplace method will never work because the intermediate object on which we are setting values always behaves as a copy.\n",
      "\n",
      "For example, when doing 'df[col].method(value, inplace=True)', try using 'df.method({col: value}, inplace=True)' or df[col] = df[col].method(value) instead, to perform the operation inplace on the original object.\n",
      "\n",
      "\n",
      "  train_df['age_approx'].fillna(train_df['age_approx'].mean(), inplace=True)\n",
      "/tmp/ipykernel_23/2832465613.py:5: FutureWarning: A value is trying to be set on a copy of a DataFrame or Series through chained assignment using an inplace method.\n",
      "The behavior will change in pandas 3.0. This inplace method will never work because the intermediate object on which we are setting values always behaves as a copy.\n",
      "\n",
      "For example, when doing 'df[col].method(value, inplace=True)', try using 'df.method({col: value}, inplace=True)' or df[col] = df[col].method(value) instead, to perform the operation inplace on the original object.\n",
      "\n",
      "\n",
      "  train_df['sex'].fillna('unknown', inplace=True)\n",
      "/tmp/ipykernel_23/2832465613.py:6: FutureWarning: A value is trying to be set on a copy of a DataFrame or Series through chained assignment using an inplace method.\n",
      "The behavior will change in pandas 3.0. This inplace method will never work because the intermediate object on which we are setting values always behaves as a copy.\n",
      "\n",
      "For example, when doing 'df[col].method(value, inplace=True)', try using 'df.method({col: value}, inplace=True)' or df[col] = df[col].method(value) instead, to perform the operation inplace on the original object.\n",
      "\n",
      "\n",
      "  train_df['anatom_site_general_challenge'].fillna(train_df['anatom_site_general_challenge'].mode()[0], inplace=True)\n"
     ]
    }
   ],
   "source": [
    "# Fill missing values for age\n",
    "train_df['age_approx'].fillna(train_df['age_approx'].mean(), inplace=True)\n",
    "\n",
    "# Fill missing categorical features with 'unknown'\n",
    "train_df['sex'].fillna('unknown', inplace=True)\n",
    "train_df['anatom_site_general_challenge'].fillna(train_df['anatom_site_general_challenge'].mode()[0], inplace=True)\n",
    "# train_df['diagnosis'].fillna('unknown', inplace=True)\n",
    "# train_df['benign_malignant'].fillna('unknown', inplace=True)\n",
    "\n",
    "# Encode categorical features using one-hot encoding\n",
    "one_hot_columns = ['sex', 'anatom_site_general_challenge']\n",
    "train_df = pd.get_dummies(train_df, columns=one_hot_columns)\n",
    "\n",
    "y = train_df['target']\n",
    "\n",
    "# Train-Validation Split\n",
    "# Set the random seed for reproducibility\n",
    "np.random.seed(0)\n",
    "\n",
    "# Generate one random number between 0 and 100\n",
    "random_number = np.random.randint(0, 50) \n",
    "train_df, val_df = train_test_split(train_df, test_size=0.2, random_state=random_number)\n",
    "\n",
    "train_dataset = create_dataset(train_df)\n",
    "val_dataset = create_dataset(val_df, is_train=False)\n",
    "\n",
    "train_dataset = train_dataset.prefetch(tf.data.experimental.AUTOTUNE)\n",
    "val_dataset = val_dataset.prefetch(tf.data.experimental.AUTOTUNE)"
   ]
  },
  {
   "cell_type": "code",
   "execution_count": 12,
   "id": "ee2c8872",
   "metadata": {
    "execution": {
     "iopub.execute_input": "2024-10-27T17:52:55.971413Z",
     "iopub.status.busy": "2024-10-27T17:52:55.970523Z",
     "iopub.status.idle": "2024-10-27T17:52:55.987668Z",
     "shell.execute_reply": "2024-10-27T17:52:55.986815Z"
    },
    "papermill": {
     "duration": 0.029204,
     "end_time": "2024-10-27T17:52:55.989787",
     "exception": false,
     "start_time": "2024-10-27T17:52:55.960583",
     "status": "completed"
    },
    "tags": []
   },
   "outputs": [
    {
     "data": {
      "text/html": [
       "<div>\n",
       "<style scoped>\n",
       "    .dataframe tbody tr th:only-of-type {\n",
       "        vertical-align: middle;\n",
       "    }\n",
       "\n",
       "    .dataframe tbody tr th {\n",
       "        vertical-align: top;\n",
       "    }\n",
       "\n",
       "    .dataframe thead th {\n",
       "        text-align: right;\n",
       "    }\n",
       "</style>\n",
       "<table border=\"1\" class=\"dataframe\">\n",
       "  <thead>\n",
       "    <tr style=\"text-align: right;\">\n",
       "      <th></th>\n",
       "      <th>image_name</th>\n",
       "      <th>patient_id</th>\n",
       "      <th>age_approx</th>\n",
       "      <th>diagnosis</th>\n",
       "      <th>benign_malignant</th>\n",
       "      <th>target</th>\n",
       "      <th>sex_female</th>\n",
       "      <th>sex_male</th>\n",
       "      <th>anatom_site_general_challenge_head/neck</th>\n",
       "      <th>anatom_site_general_challenge_lower extremity</th>\n",
       "      <th>anatom_site_general_challenge_oral/genital</th>\n",
       "      <th>anatom_site_general_challenge_palms/soles</th>\n",
       "      <th>anatom_site_general_challenge_torso</th>\n",
       "      <th>anatom_site_general_challenge_upper extremity</th>\n",
       "    </tr>\n",
       "  </thead>\n",
       "  <tbody>\n",
       "    <tr>\n",
       "      <th>31785</th>\n",
       "      <td>ISIC_9603756</td>\n",
       "      <td>IP_4281194</td>\n",
       "      <td>80.0</td>\n",
       "      <td>unknown</td>\n",
       "      <td>benign</td>\n",
       "      <td>0</td>\n",
       "      <td>True</td>\n",
       "      <td>False</td>\n",
       "      <td>False</td>\n",
       "      <td>False</td>\n",
       "      <td>False</td>\n",
       "      <td>False</td>\n",
       "      <td>True</td>\n",
       "      <td>False</td>\n",
       "    </tr>\n",
       "    <tr>\n",
       "      <th>30581</th>\n",
       "      <td>ISIC_9240979</td>\n",
       "      <td>IP_2358028</td>\n",
       "      <td>45.0</td>\n",
       "      <td>nevus</td>\n",
       "      <td>benign</td>\n",
       "      <td>0</td>\n",
       "      <td>False</td>\n",
       "      <td>True</td>\n",
       "      <td>False</td>\n",
       "      <td>False</td>\n",
       "      <td>False</td>\n",
       "      <td>False</td>\n",
       "      <td>False</td>\n",
       "      <td>True</td>\n",
       "    </tr>\n",
       "    <tr>\n",
       "      <th>22527</th>\n",
       "      <td>ISIC_6831244</td>\n",
       "      <td>IP_3145948</td>\n",
       "      <td>45.0</td>\n",
       "      <td>nevus</td>\n",
       "      <td>benign</td>\n",
       "      <td>0</td>\n",
       "      <td>False</td>\n",
       "      <td>True</td>\n",
       "      <td>False</td>\n",
       "      <td>False</td>\n",
       "      <td>False</td>\n",
       "      <td>False</td>\n",
       "      <td>True</td>\n",
       "      <td>False</td>\n",
       "    </tr>\n",
       "    <tr>\n",
       "      <th>4531</th>\n",
       "      <td>ISIC_1465113</td>\n",
       "      <td>IP_8029095</td>\n",
       "      <td>45.0</td>\n",
       "      <td>unknown</td>\n",
       "      <td>benign</td>\n",
       "      <td>0</td>\n",
       "      <td>True</td>\n",
       "      <td>False</td>\n",
       "      <td>False</td>\n",
       "      <td>False</td>\n",
       "      <td>False</td>\n",
       "      <td>False</td>\n",
       "      <td>True</td>\n",
       "      <td>False</td>\n",
       "    </tr>\n",
       "    <tr>\n",
       "      <th>30740</th>\n",
       "      <td>ISIC_9290617</td>\n",
       "      <td>IP_7718399</td>\n",
       "      <td>40.0</td>\n",
       "      <td>nevus</td>\n",
       "      <td>benign</td>\n",
       "      <td>0</td>\n",
       "      <td>True</td>\n",
       "      <td>False</td>\n",
       "      <td>True</td>\n",
       "      <td>False</td>\n",
       "      <td>False</td>\n",
       "      <td>False</td>\n",
       "      <td>False</td>\n",
       "      <td>False</td>\n",
       "    </tr>\n",
       "  </tbody>\n",
       "</table>\n",
       "</div>"
      ],
      "text/plain": [
       "         image_name  patient_id  age_approx diagnosis benign_malignant  \\\n",
       "31785  ISIC_9603756  IP_4281194        80.0   unknown           benign   \n",
       "30581  ISIC_9240979  IP_2358028        45.0     nevus           benign   \n",
       "22527  ISIC_6831244  IP_3145948        45.0     nevus           benign   \n",
       "4531   ISIC_1465113  IP_8029095        45.0   unknown           benign   \n",
       "30740  ISIC_9290617  IP_7718399        40.0     nevus           benign   \n",
       "\n",
       "       target  sex_female  sex_male  anatom_site_general_challenge_head/neck  \\\n",
       "31785       0        True     False                                    False   \n",
       "30581       0       False      True                                    False   \n",
       "22527       0       False      True                                    False   \n",
       "4531        0        True     False                                    False   \n",
       "30740       0        True     False                                     True   \n",
       "\n",
       "       anatom_site_general_challenge_lower extremity  \\\n",
       "31785                                          False   \n",
       "30581                                          False   \n",
       "22527                                          False   \n",
       "4531                                           False   \n",
       "30740                                          False   \n",
       "\n",
       "       anatom_site_general_challenge_oral/genital  \\\n",
       "31785                                       False   \n",
       "30581                                       False   \n",
       "22527                                       False   \n",
       "4531                                        False   \n",
       "30740                                       False   \n",
       "\n",
       "       anatom_site_general_challenge_palms/soles  \\\n",
       "31785                                      False   \n",
       "30581                                      False   \n",
       "22527                                      False   \n",
       "4531                                       False   \n",
       "30740                                      False   \n",
       "\n",
       "       anatom_site_general_challenge_torso  \\\n",
       "31785                                 True   \n",
       "30581                                False   \n",
       "22527                                 True   \n",
       "4531                                  True   \n",
       "30740                                False   \n",
       "\n",
       "       anatom_site_general_challenge_upper extremity  \n",
       "31785                                          False  \n",
       "30581                                           True  \n",
       "22527                                          False  \n",
       "4531                                           False  \n",
       "30740                                          False  "
      ]
     },
     "execution_count": 12,
     "metadata": {},
     "output_type": "execute_result"
    }
   ],
   "source": [
    "train_df.head()"
   ]
  },
  {
   "cell_type": "code",
   "execution_count": 13,
   "id": "b6436139",
   "metadata": {
    "execution": {
     "iopub.execute_input": "2024-10-27T17:52:56.009955Z",
     "iopub.status.busy": "2024-10-27T17:52:56.009639Z",
     "iopub.status.idle": "2024-10-27T17:52:56.103770Z",
     "shell.execute_reply": "2024-10-27T17:52:56.102852Z"
    },
    "papermill": {
     "duration": 0.106335,
     "end_time": "2024-10-27T17:52:56.105844",
     "exception": false,
     "start_time": "2024-10-27T17:52:55.999509",
     "status": "completed"
    },
    "tags": []
   },
   "outputs": [],
   "source": [
    "from sklearn.utils import class_weight\n",
    "from sklearn.metrics import classification_report\n",
    "# import tensorflow_addons as tfa\n",
    "# from tensorflow_addons.optimizers import CyclicalLearningRate\n",
    "\n",
    "lr_schedule = tf.keras.optimizers.schedules.ExponentialDecay(\n",
    "    initial_learning_rate=1e-4, decay_steps=10000, decay_rate=0.9)\n",
    "\n",
    "steps_per_epoch = len(train_df) // BATCH_SIZE\n",
    "validation_steps = len(val_df) // BATCH_SIZE\n",
    "\n",
    "# early_stopping = tf.keras.callbacks.EarlyStopping(monitor='val_loss', patience=3, restore_best_weights=True)\n",
    "early_stopping = tf.keras.callbacks.EarlyStopping(monitor='val_loss', patience=3, restore_best_weights=True)\n",
    "\n",
    "# Calculate class weights\n",
    "class_weights = class_weight.compute_class_weight(\n",
    "    class_weight='balanced',\n",
    "    classes=np.unique(y),\n",
    "    y=y\n",
    ")\n",
    "\n",
    "# Convert class weights to a dictionary\n",
    "class_weights = {0: class_weights[0], 1: class_weights[1]}\n"
   ]
  },
  {
   "cell_type": "code",
   "execution_count": 15,
   "id": "246d1ff7",
   "metadata": {
    "execution": {
     "iopub.execute_input": "2024-10-27T17:52:56.150350Z",
     "iopub.status.busy": "2024-10-27T17:52:56.150063Z",
     "iopub.status.idle": "2024-10-27T17:52:56.157355Z",
     "shell.execute_reply": "2024-10-27T17:52:56.156592Z"
    },
    "papermill": {
     "duration": 0.019093,
     "end_time": "2024-10-27T17:52:56.159222",
     "exception": false,
     "start_time": "2024-10-27T17:52:56.140129",
     "status": "completed"
    },
    "tags": []
   },
   "outputs": [],
   "source": [
    "def load_and_preprocess_image_test(image_name, label=None):\n",
    "    image_path = tf.strings.join([test_image_dir, image_name, '.jpg'], separator='')\n",
    "    image = tf.io.read_file(image_path)\n",
    "    image = tf.image.decode_jpeg(image, channels=3)\n",
    "    image = tf.image.resize(image, [IMG_SIZE, IMG_SIZE])\n",
    "    image = image / 255.0  # Normalize\n",
    "    \n",
    "    # Move data augmentation to GPU\n",
    "    image = tf.image.random_flip_left_right(image)\n",
    "    image = tf.image.random_brightness(image, max_delta=0.1)\n",
    "    \n",
    "    if label is not None:\n",
    "        return image, label\n",
    "    return image\n",
    "\n",
    "# Prepare the test dataset\n",
    "def create_test_dataset(df):\n",
    "    dataset = tf.data.Dataset.from_tensor_slices(df['image_name'])\n",
    "    dataset = dataset.map(lambda x: load_and_preprocess_image_test(x), num_parallel_calls=tf.data.AUTOTUNE)\n",
    "    dataset = dataset.batch(BATCH_SIZE).prefetch(tf.data.AUTOTUNE)\n",
    "    return dataset"
   ]
  },
  {
   "cell_type": "code",
   "execution_count": 16,
   "id": "5975c505",
   "metadata": {
    "execution": {
     "iopub.execute_input": "2024-10-27T17:52:56.178712Z",
     "iopub.status.busy": "2024-10-27T17:52:56.178383Z",
     "iopub.status.idle": "2024-10-27T17:52:57.587517Z",
     "shell.execute_reply": "2024-10-27T17:52:57.586697Z"
    },
    "papermill": {
     "duration": 1.421395,
     "end_time": "2024-10-27T17:52:57.589807",
     "exception": false,
     "start_time": "2024-10-27T17:52:56.168412",
     "status": "completed"
    },
    "tags": []
   },
   "outputs": [
    {
     "data": {
      "text/html": [
       "<style>#sk-container-id-1 {color: black;background-color: white;}#sk-container-id-1 pre{padding: 0;}#sk-container-id-1 div.sk-toggleable {background-color: white;}#sk-container-id-1 label.sk-toggleable__label {cursor: pointer;display: block;width: 100%;margin-bottom: 0;padding: 0.3em;box-sizing: border-box;text-align: center;}#sk-container-id-1 label.sk-toggleable__label-arrow:before {content: \"▸\";float: left;margin-right: 0.25em;color: #696969;}#sk-container-id-1 label.sk-toggleable__label-arrow:hover:before {color: black;}#sk-container-id-1 div.sk-estimator:hover label.sk-toggleable__label-arrow:before {color: black;}#sk-container-id-1 div.sk-toggleable__content {max-height: 0;max-width: 0;overflow: hidden;text-align: left;background-color: #f0f8ff;}#sk-container-id-1 div.sk-toggleable__content pre {margin: 0.2em;color: black;border-radius: 0.25em;background-color: #f0f8ff;}#sk-container-id-1 input.sk-toggleable__control:checked~div.sk-toggleable__content {max-height: 200px;max-width: 100%;overflow: auto;}#sk-container-id-1 input.sk-toggleable__control:checked~label.sk-toggleable__label-arrow:before {content: \"▾\";}#sk-container-id-1 div.sk-estimator input.sk-toggleable__control:checked~label.sk-toggleable__label {background-color: #d4ebff;}#sk-container-id-1 div.sk-label input.sk-toggleable__control:checked~label.sk-toggleable__label {background-color: #d4ebff;}#sk-container-id-1 input.sk-hidden--visually {border: 0;clip: rect(1px 1px 1px 1px);clip: rect(1px, 1px, 1px, 1px);height: 1px;margin: -1px;overflow: hidden;padding: 0;position: absolute;width: 1px;}#sk-container-id-1 div.sk-estimator {font-family: monospace;background-color: #f0f8ff;border: 1px dotted black;border-radius: 0.25em;box-sizing: border-box;margin-bottom: 0.5em;}#sk-container-id-1 div.sk-estimator:hover {background-color: #d4ebff;}#sk-container-id-1 div.sk-parallel-item::after {content: \"\";width: 100%;border-bottom: 1px solid gray;flex-grow: 1;}#sk-container-id-1 div.sk-label:hover label.sk-toggleable__label {background-color: #d4ebff;}#sk-container-id-1 div.sk-serial::before {content: \"\";position: absolute;border-left: 1px solid gray;box-sizing: border-box;top: 0;bottom: 0;left: 50%;z-index: 0;}#sk-container-id-1 div.sk-serial {display: flex;flex-direction: column;align-items: center;background-color: white;padding-right: 0.2em;padding-left: 0.2em;position: relative;}#sk-container-id-1 div.sk-item {position: relative;z-index: 1;}#sk-container-id-1 div.sk-parallel {display: flex;align-items: stretch;justify-content: center;background-color: white;position: relative;}#sk-container-id-1 div.sk-item::before, #sk-container-id-1 div.sk-parallel-item::before {content: \"\";position: absolute;border-left: 1px solid gray;box-sizing: border-box;top: 0;bottom: 0;left: 50%;z-index: -1;}#sk-container-id-1 div.sk-parallel-item {display: flex;flex-direction: column;z-index: 1;position: relative;background-color: white;}#sk-container-id-1 div.sk-parallel-item:first-child::after {align-self: flex-end;width: 50%;}#sk-container-id-1 div.sk-parallel-item:last-child::after {align-self: flex-start;width: 50%;}#sk-container-id-1 div.sk-parallel-item:only-child::after {width: 0;}#sk-container-id-1 div.sk-dashed-wrapped {border: 1px dashed gray;margin: 0 0.4em 0.5em 0.4em;box-sizing: border-box;padding-bottom: 0.4em;background-color: white;}#sk-container-id-1 div.sk-label label {font-family: monospace;font-weight: bold;display: inline-block;line-height: 1.2em;}#sk-container-id-1 div.sk-label-container {text-align: center;}#sk-container-id-1 div.sk-container {/* jupyter's `normalize.less` sets `[hidden] { display: none; }` but bootstrap.min.css set `[hidden] { display: none !important; }` so we also need the `!important` here to be able to override the default hidden behavior on the sphinx rendered scikit-learn.org. See: https://github.com/scikit-learn/scikit-learn/issues/21755 */display: inline-block !important;position: relative;}#sk-container-id-1 div.sk-text-repr-fallback {display: none;}</style><div id=\"sk-container-id-1\" class=\"sk-top-container\"><div class=\"sk-text-repr-fallback\"><pre>XGBClassifier(base_score=None, booster=None, callbacks=None,\n",
       "              colsample_bylevel=None, colsample_bynode=None,\n",
       "              colsample_bytree=None, device=None, early_stopping_rounds=None,\n",
       "              enable_categorical=False, eval_metric=&#x27;logloss&#x27;,\n",
       "              feature_types=None, gamma=None, grow_policy=None,\n",
       "              importance_type=None, interaction_constraints=None,\n",
       "              learning_rate=None, max_bin=None, max_cat_threshold=None,\n",
       "              max_cat_to_onehot=None, max_delta_step=None, max_depth=None,\n",
       "              max_leaves=None, min_child_weight=None, missing=nan,\n",
       "              monotone_constraints=None, multi_strategy=None, n_estimators=None,\n",
       "              n_jobs=None, num_parallel_tree=None, random_state=None, ...)</pre><b>In a Jupyter environment, please rerun this cell to show the HTML representation or trust the notebook. <br />On GitHub, the HTML representation is unable to render, please try loading this page with nbviewer.org.</b></div><div class=\"sk-container\" hidden><div class=\"sk-item\"><div class=\"sk-estimator sk-toggleable\"><input class=\"sk-toggleable__control sk-hidden--visually\" id=\"sk-estimator-id-1\" type=\"checkbox\" checked><label for=\"sk-estimator-id-1\" class=\"sk-toggleable__label sk-toggleable__label-arrow\">XGBClassifier</label><div class=\"sk-toggleable__content\"><pre>XGBClassifier(base_score=None, booster=None, callbacks=None,\n",
       "              colsample_bylevel=None, colsample_bynode=None,\n",
       "              colsample_bytree=None, device=None, early_stopping_rounds=None,\n",
       "              enable_categorical=False, eval_metric=&#x27;logloss&#x27;,\n",
       "              feature_types=None, gamma=None, grow_policy=None,\n",
       "              importance_type=None, interaction_constraints=None,\n",
       "              learning_rate=None, max_bin=None, max_cat_threshold=None,\n",
       "              max_cat_to_onehot=None, max_delta_step=None, max_depth=None,\n",
       "              max_leaves=None, min_child_weight=None, missing=nan,\n",
       "              monotone_constraints=None, multi_strategy=None, n_estimators=None,\n",
       "              n_jobs=None, num_parallel_tree=None, random_state=None, ...)</pre></div></div></div></div></div>"
      ],
      "text/plain": [
       "XGBClassifier(base_score=None, booster=None, callbacks=None,\n",
       "              colsample_bylevel=None, colsample_bynode=None,\n",
       "              colsample_bytree=None, device=None, early_stopping_rounds=None,\n",
       "              enable_categorical=False, eval_metric='logloss',\n",
       "              feature_types=None, gamma=None, grow_policy=None,\n",
       "              importance_type=None, interaction_constraints=None,\n",
       "              learning_rate=None, max_bin=None, max_cat_threshold=None,\n",
       "              max_cat_to_onehot=None, max_delta_step=None, max_depth=None,\n",
       "              max_leaves=None, min_child_weight=None, missing=nan,\n",
       "              monotone_constraints=None, multi_strategy=None, n_estimators=None,\n",
       "              n_jobs=None, num_parallel_tree=None, random_state=None, ...)"
      ]
     },
     "execution_count": 16,
     "metadata": {},
     "output_type": "execute_result"
    }
   ],
   "source": [
    "train_df = train_df.drop(columns=['image_name', 'patient_id', 'diagnosis', 'benign_malignant'], axis=1)\n",
    "val_df = val_df.drop(columns=['image_name', 'patient_id', 'diagnosis', 'benign_malignant'], axis=1)\n",
    "\n",
    "# Extract tabular features for RandomForest and XGBoost\n",
    "X_train_tabular = train_df.drop(columns=['target'], axis=1)\n",
    "y_train = train_df['target']\n",
    "\n",
    "X_val_tabular = val_df.drop(columns=['target'], axis=1)\n",
    "y_val = val_df['target']\n",
    "\n",
    "# Train RandomForest\n",
    "\n",
    "rf_model = RandomForestClassifier(n_estimators=100, random_state=42)\n",
    "rf_model.fit(X_train_tabular, y_train)\n",
    "\n",
    "# Train XGBoost\n",
    "xgb_model = xgb.XGBClassifier(use_label_encoder=False, eval_metric='logloss')\n",
    "xgb_model.fit(X_train_tabular, y_train)"
   ]
  },
  {
   "cell_type": "code",
   "execution_count": 17,
   "id": "4ec05703",
   "metadata": {
    "execution": {
     "iopub.execute_input": "2024-10-27T17:52:57.610474Z",
     "iopub.status.busy": "2024-10-27T17:52:57.610155Z",
     "iopub.status.idle": "2024-10-27T17:52:57.627655Z",
     "shell.execute_reply": "2024-10-27T17:52:57.626745Z"
    },
    "papermill": {
     "duration": 0.030139,
     "end_time": "2024-10-27T17:52:57.629756",
     "exception": false,
     "start_time": "2024-10-27T17:52:57.599617",
     "status": "completed"
    },
    "tags": []
   },
   "outputs": [
    {
     "name": "stderr",
     "output_type": "stream",
     "text": [
      "/tmp/ipykernel_23/452919083.py:2: FutureWarning: A value is trying to be set on a copy of a DataFrame or Series through chained assignment using an inplace method.\n",
      "The behavior will change in pandas 3.0. This inplace method will never work because the intermediate object on which we are setting values always behaves as a copy.\n",
      "\n",
      "For example, when doing 'df[col].method(value, inplace=True)', try using 'df.method({col: value}, inplace=True)' or df[col] = df[col].method(value) instead, to perform the operation inplace on the original object.\n",
      "\n",
      "\n",
      "  test_df['age_approx'].fillna(test_df['age_approx'].mean(), inplace=True)\n",
      "/tmp/ipykernel_23/452919083.py:5: FutureWarning: A value is trying to be set on a copy of a DataFrame or Series through chained assignment using an inplace method.\n",
      "The behavior will change in pandas 3.0. This inplace method will never work because the intermediate object on which we are setting values always behaves as a copy.\n",
      "\n",
      "For example, when doing 'df[col].method(value, inplace=True)', try using 'df.method({col: value}, inplace=True)' or df[col] = df[col].method(value) instead, to perform the operation inplace on the original object.\n",
      "\n",
      "\n",
      "  test_df['sex'].fillna('unknown', inplace=True)\n",
      "/tmp/ipykernel_23/452919083.py:6: FutureWarning: A value is trying to be set on a copy of a DataFrame or Series through chained assignment using an inplace method.\n",
      "The behavior will change in pandas 3.0. This inplace method will never work because the intermediate object on which we are setting values always behaves as a copy.\n",
      "\n",
      "For example, when doing 'df[col].method(value, inplace=True)', try using 'df.method({col: value}, inplace=True)' or df[col] = df[col].method(value) instead, to perform the operation inplace on the original object.\n",
      "\n",
      "\n",
      "  test_df['anatom_site_general_challenge'].fillna(test_df['anatom_site_general_challenge'].mode()[0], inplace=True)\n"
     ]
    }
   ],
   "source": [
    "# Fill missing values for age\n",
    "test_df['age_approx'].fillna(test_df['age_approx'].mean(), inplace=True)\n",
    "\n",
    "# Fill missing categorical features with 'unknown'\n",
    "test_df['sex'].fillna('unknown', inplace=True)\n",
    "test_df['anatom_site_general_challenge'].fillna(test_df['anatom_site_general_challenge'].mode()[0], inplace=True)\n",
    "# train_df['diagnosis'].fillna('unknown', inplace=True)\n",
    "# train_df['benign_malignant'].fillna('unknown', inplace=True)\n",
    "\n",
    "# Encode categorical features using one-hot encoding\n",
    "one_hot_columns = ['sex', 'anatom_site_general_challenge']\n",
    "test_df = pd.get_dummies(test_df, columns=one_hot_columns)"
   ]
  },
  {
   "cell_type": "code",
   "execution_count": 18,
   "id": "ec6d079e",
   "metadata": {
    "execution": {
     "iopub.execute_input": "2024-10-27T17:52:57.650757Z",
     "iopub.status.busy": "2024-10-27T17:52:57.650427Z",
     "iopub.status.idle": "2024-10-27T17:52:57.804003Z",
     "shell.execute_reply": "2024-10-27T17:52:57.803250Z"
    },
    "papermill": {
     "duration": 0.166518,
     "end_time": "2024-10-27T17:52:57.806239",
     "exception": false,
     "start_time": "2024-10-27T17:52:57.639721",
     "status": "completed"
    },
    "tags": []
   },
   "outputs": [],
   "source": [
    "test_dataset = create_test_dataset(test_df)\n",
    "test_dataset = test_dataset.prefetch(tf.data.AUTOTUNE)"
   ]
  },
  {
   "cell_type": "code",
   "execution_count": null,
   "id": "530587f9",
   "metadata": {
    "execution": {
     "iopub.execute_input": "2024-10-27T17:52:57.827480Z",
     "iopub.status.busy": "2024-10-27T17:52:57.827169Z",
     "iopub.status.idle": "2024-10-27T19:19:11.779163Z",
     "shell.execute_reply": "2024-10-27T19:19:11.778091Z"
    },
    "papermill": {
     "duration": 5174.273057,
     "end_time": "2024-10-27T19:19:12.089304",
     "exception": false,
     "start_time": "2024-10-27T17:52:57.816247",
     "status": "completed"
    },
    "tags": []
   },
   "outputs": [
    {
     "name": "stdout",
     "output_type": "stream",
     "text": [
      "Downloading data from https://storage.googleapis.com/keras-applications/efficientnetb3_notop.h5\n",
      "\u001b[1m43941136/43941136\u001b[0m \u001b[32m━━━━━━━━━━━━━━━━━━━━\u001b[0m\u001b[37m\u001b[0m \u001b[1m3s\u001b[0m 0us/step\n",
      "Epoch 1/4\n"
     ]
    },
    {
     "name": "stderr",
     "output_type": "stream",
     "text": [
      "WARNING: All log messages before absl::InitializeLog() is called are written to STDERR\n",
      "I0000 00:00:1730052536.998188      64 service.cc:145] XLA service 0x7a1cb40068f0 initialized for platform CUDA (this does not guarantee that XLA will be used). Devices:\n",
      "I0000 00:00:1730052537.006231      64 service.cc:153]   StreamExecutor device (0): Tesla P100-PCIE-16GB, Compute Capability 6.0\n",
      "I0000 00:00:1730052648.347455      64 device_compiler.h:188] Compiled cluster using XLA!  This line is logged at most once for the lifetime of the process.\n"
     ]
    },
    {
     "name": "stdout",
     "output_type": "stream",
     "text": [
      "\u001b[1m1653/1653\u001b[0m \u001b[32m━━━━━━━━━━━━━━━━━━━━\u001b[0m\u001b[37m\u001b[0m \u001b[1m1465s\u001b[0m 242ms/step - accuracy: 0.6952 - loss: 0.5840 - val_accuracy: 0.7485 - val_loss: 0.4181\n",
      "Epoch 2/4\n",
      "\u001b[1m1653/1653\u001b[0m \u001b[32m━━━━━━━━━━━━━━━━━━━━\u001b[0m\u001b[37m\u001b[0m \u001b[1m1224s\u001b[0m 228ms/step - accuracy: 0.7399 - loss: 0.4625 - val_accuracy: 0.6834 - val_loss: 0.6453\n",
      "Epoch 3/4\n",
      "\u001b[1m1653/1653\u001b[0m \u001b[32m━━━━━━━━━━━━━━━━━━━━\u001b[0m\u001b[37m\u001b[0m \u001b[1m1219s\u001b[0m 229ms/step - accuracy: 0.7426 - loss: 0.4489 - val_accuracy: 0.7732 - val_loss: 0.4890\n",
      "Epoch 4/4\n",
      "\u001b[1m1653/1653\u001b[0m \u001b[32m━━━━━━━━━━━━━━━━━━━━\u001b[0m\u001b[37m\u001b[0m \u001b[1m1260s\u001b[0m 240ms/step - accuracy: 0.7828 - loss: 0.3921 - val_accuracy: 0.7032 - val_loss: 0.4374\n"
     ]
    }
   ],
   "source": [
    "# Defined model (using EfficientNetB3)\n",
    "base_model = tf.keras.applications.EfficientNetB3(\n",
    "    include_top=False,\n",
    "    weights='imagenet',\n",
    "    input_shape=(IMG_SIZE, IMG_SIZE, 3)\n",
    ")\n",
    "\n",
    "base_model.trainable = False\n",
    "\n",
    "# Custom classification head\n",
    "model = tf.keras.Sequential([\n",
    "    base_model,\n",
    "    tf.keras.layers.GlobalAveragePooling2D(),\n",
    "    tf.keras.layers.Dense(128, activation='relu'),\n",
    "    tf.keras.layers.Dropout(0.5),\n",
    "    tf.keras.layers.Dense(1, activation='sigmoid')  # Adjust for binary classification\n",
    "])\n",
    "\n",
    "base_model.trainable = True\n",
    "\n",
    "\n",
    "# Compile the model\n",
    "model.compile(\n",
    "    optimizer=tf.keras.optimizers.Adam(learning_rate=0.0001),\n",
    "    loss='binary_crossentropy',\n",
    "    metrics=['accuracy']\n",
    ")\n",
    "\n",
    "# Train the model\n",
    "history = model.fit(\n",
    "    train_dataset,\n",
    "    epochs=4,\n",
    "    validation_data=val_dataset,\n",
    "    class_weight=class_weights,\n",
    "    callbacks=[early_stopping],\n",
    "    verbose=1\n",
    ")"
   ]
  },
  {
   "cell_type": "code",
   "execution_count": 20,
   "id": "6096a65b",
   "metadata": {
    "execution": {
     "iopub.execute_input": "2024-10-27T19:19:13.163050Z",
     "iopub.status.busy": "2024-10-27T19:19:13.162170Z",
     "iopub.status.idle": "2024-10-27T19:22:26.965212Z",
     "shell.execute_reply": "2024-10-27T19:22:26.964228Z"
    },
    "papermill": {
     "duration": 194.341515,
     "end_time": "2024-10-27T19:22:26.969002",
     "exception": false,
     "start_time": "2024-10-27T19:19:12.627487",
     "status": "completed"
    },
    "tags": []
   },
   "outputs": [
    {
     "name": "stdout",
     "output_type": "stream",
     "text": [
      "\u001b[1m414/414\u001b[0m \u001b[32m━━━━━━━━━━━━━━━━━━━━\u001b[0m\u001b[37m\u001b[0m \u001b[1m193s\u001b[0m 448ms/step\n"
     ]
    }
   ],
   "source": [
    "y_pred_proba_cnn = model.predict(val_dataset)"
   ]
  },
  {
   "cell_type": "code",
   "execution_count": null,
   "id": "7d3184e2",
   "metadata": {
    "execution": {
     "iopub.execute_input": "2024-10-27T19:22:34.027407Z",
     "iopub.status.busy": "2024-10-27T19:22:34.026447Z",
     "iopub.status.idle": "2024-10-27T19:22:34.284443Z",
     "shell.execute_reply": "2024-10-27T19:22:34.283676Z"
    },
    "papermill": {
     "duration": 0.87329,
     "end_time": "2024-10-27T19:22:34.286783",
     "exception": false,
     "start_time": "2024-10-27T19:22:33.413493",
     "status": "completed"
    },
    "tags": []
   },
   "outputs": [
    {
     "name": "stdout",
     "output_type": "stream",
     "text": [
      "CNN Model AUC: 0.8425460218754591\n",
      "RandomForest Model AUC: 0.665977343076697\n",
      "XGBoost Model AUC: 0.6755412748953198\n"
     ]
    }
   ],
   "source": [
    "# CNN Model AUC-ROC\n",
    "auc_cnn = roc_auc_score(y_val, y_pred_proba_cnn)\n",
    "print(f'CNN Model AUC: {auc_cnn}')\n",
    "\n",
    "# RandomForest AUC-ROC\n",
    "y_pred_proba_rf = rf_model.predict_proba(X_val_tabular)[:, 1]\n",
    "auc_rf = roc_auc_score(y_val, y_pred_proba_rf)\n",
    "print(f'RandomForest Model AUC: {auc_rf}')\n",
    "\n",
    "# XGBoost AUC-ROC\n",
    "y_pred_proba_xgb = xgb_model.predict_proba(X_val_tabular)[:, 1]\n",
    "auc_xgb = roc_auc_score(y_val, y_pred_proba_xgb)\n",
    "print(f'XGBoost Model AUC: {auc_xgb}')"
   ]
  },
  {
   "cell_type": "code",
   "execution_count": 27,
   "id": "44fab59c",
   "metadata": {
    "execution": {
     "iopub.execute_input": "2024-10-27T19:22:35.574156Z",
     "iopub.status.busy": "2024-10-27T19:22:35.573734Z",
     "iopub.status.idle": "2024-10-27T19:22:35.585684Z",
     "shell.execute_reply": "2024-10-27T19:22:35.584216Z"
    },
    "papermill": {
     "duration": 0.737297,
     "end_time": "2024-10-27T19:22:35.587888",
     "exception": false,
     "start_time": "2024-10-27T19:22:34.850591",
     "status": "completed"
    },
    "tags": []
   },
   "outputs": [
    {
     "name": "stdout",
     "output_type": "stream",
     "text": [
      "Ensemble Model AUC: 0.8530556086692659\n"
     ]
    }
   ],
   "source": [
    "# Average the predicted probabilities (Ensemble)\n",
    "ensemble_proba = (y_pred_proba_cnn.flatten() + y_pred_proba_rf + y_pred_proba_xgb) / 3\n",
    "auc_ensemble = roc_auc_score(y_val, ensemble_proba)\n",
    "print(f'Ensemble Model AUC: {auc_ensemble}')"
   ]
  },
  {
   "cell_type": "code",
   "execution_count": 28,
   "id": "d0c0239e",
   "metadata": {
    "execution": {
     "iopub.execute_input": "2024-10-27T19:22:36.787260Z",
     "iopub.status.busy": "2024-10-27T19:22:36.786878Z",
     "iopub.status.idle": "2024-10-27T19:27:17.852428Z",
     "shell.execute_reply": "2024-10-27T19:27:17.851526Z"
    },
    "papermill": {
     "duration": 281.932022,
     "end_time": "2024-10-27T19:27:18.147117",
     "exception": false,
     "start_time": "2024-10-27T19:22:36.215095",
     "status": "completed"
    },
    "tags": []
   },
   "outputs": [
    {
     "name": "stdout",
     "output_type": "stream",
     "text": [
      "\u001b[1m687/687\u001b[0m \u001b[32m━━━━━━━━━━━━━━━━━━━━\u001b[0m\u001b[37m\u001b[0m \u001b[1m281s\u001b[0m 397ms/step\n"
     ]
    }
   ],
   "source": [
    "test_predictions = model.predict(test_dataset)"
   ]
  },
  {
   "cell_type": "code",
   "execution_count": 29,
   "id": "5acc6950",
   "metadata": {
    "execution": {
     "iopub.execute_input": "2024-10-27T19:27:19.390722Z",
     "iopub.status.busy": "2024-10-27T19:27:19.390307Z",
     "iopub.status.idle": "2024-10-27T19:27:19.659180Z",
     "shell.execute_reply": "2024-10-27T19:27:19.658423Z"
    },
    "papermill": {
     "duration": 0.889604,
     "end_time": "2024-10-27T19:27:19.661345",
     "exception": false,
     "start_time": "2024-10-27T19:27:18.771741",
     "status": "completed"
    },
    "tags": []
   },
   "outputs": [],
   "source": [
    "test = test_df.drop(columns=['image_name', 'patient_id'], axis=1)\n",
    "\n",
    "# Extract tabular features for RandomForest and XGBoost\n",
    "X_test_tabular = test\n",
    "\n",
    "y_pred_proba_rf = rf_model.predict_proba(X_test_tabular)[:, 1]\n",
    "\n",
    "# XGBoost AUC-ROC\n",
    "y_pred_proba_xgb = xgb_model.predict_proba(X_test_tabular)[:, 1]\n",
    "\n",
    "ensemble_proba = (test_predictions.flatten() + y_pred_proba_rf + y_pred_proba_xgb) / 3\n",
    "\n",
    "# Create submission file\n",
    "submission_df = pd.DataFrame({'image_name': test_df['image_name'], 'target': ensemble_proba})\n",
    "submission_df.to_csv('submission.csv', index=False)"
   ]
  },
  {
   "cell_type": "code",
   "execution_count": null,
   "id": "0aff8b32",
   "metadata": {
    "papermill": {
     "duration": 0.619615,
     "end_time": "2024-10-27T19:27:20.951169",
     "exception": false,
     "start_time": "2024-10-27T19:27:20.331554",
     "status": "completed"
    },
    "tags": []
   },
   "outputs": [],
   "source": []
  }
 ],
 "metadata": {
  "kaggle": {
   "accelerator": "gpu",
   "dataSources": [
    {
     "databundleVersionId": 1222630,
     "sourceId": 20270,
     "sourceType": "competition"
    }
   ],
   "dockerImageVersionId": 30787,
   "isGpuEnabled": true,
   "isInternetEnabled": true,
   "language": "python",
   "sourceType": "notebook"
  },
  "kernelspec": {
   "display_name": "Python 3",
   "language": "python",
   "name": "python3"
  },
  "language_info": {
   "codemirror_mode": {
    "name": "ipython",
    "version": 3
   },
   "file_extension": ".py",
   "mimetype": "text/x-python",
   "name": "python",
   "nbconvert_exporter": "python",
   "pygments_lexer": "ipython3",
   "version": "3.10.14"
  },
  "papermill": {
   "default_parameters": {},
   "duration": 5697.119327,
   "end_time": "2024-10-27T19:27:26.846326",
   "environment_variables": {},
   "exception": null,
   "input_path": "__notebook__.ipynb",
   "output_path": "__notebook__.ipynb",
   "parameters": {},
   "start_time": "2024-10-27T17:52:29.726999",
   "version": "2.6.0"
  }
 },
 "nbformat": 4,
 "nbformat_minor": 5
}
